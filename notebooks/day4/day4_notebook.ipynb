{
 "cells": [
  {
   "cell_type": "markdown",
   "id": "37a7eb28",
   "metadata": {},
   "source": [
    "### calculate monthly average returns + plot correlation heatmap "
   ]
  },
  {
   "cell_type": "code",
   "execution_count": 2,
   "id": "6e82ee7c",
   "metadata": {},
   "outputs": [],
   "source": [
    "import pandas as pd \n",
    "import numpy as np \n",
    "import matplotlib.pyplot as plt "
   ]
  },
  {
   "cell_type": "code",
   "execution_count": 29,
   "id": "216f2c20",
   "metadata": {},
   "outputs": [
    {
     "name": "stdout",
     "output_type": "stream",
     "text": [
      "            Close/Last  Volume      Open      High       Low\n",
      "Date                                                        \n",
      "2025-09-07    111078.0     NaN  110636.0  111343.0  110631.0\n",
      "2025-09-06    110508.0     NaN  111197.0  110589.0  110186.0\n",
      "2025-09-05    111052.0     NaN  111311.0  111313.0  110555.0\n",
      "2025-09-04    111250.0     NaN  111146.0  111484.0  110453.0\n",
      "2025-09-03    111222.0     NaN  111054.0  112189.0  111217.0\n",
      "2025-09-02    111116.0     NaN  110325.0  111754.0  110899.0\n",
      "2025-09-01    110428.0     NaN  107688.0  110600.0  108896.0\n",
      "2025-08-31    107478.0     NaN  109201.0  108450.0  107408.0\n",
      "2025-08-30    109347.0     NaN  108435.0  109484.0  108807.0\n",
      "2025-08-29    108389.0     NaN  111727.0  108424.0  107433.0\n",
      "2025-08-28    111789.0     NaN  112003.0  112617.0  111332.0\n",
      "2025-08-27    111882.0     NaN  111437.0  112015.0  110888.0\n",
      "2025-08-26    111657.0     NaN  109877.0  111829.0  110924.0\n",
      "2025-08-25    109887.0     NaN  112979.0  110118.0  108768.0\n",
      "2025-08-24    113276.0     NaN  115036.0  113665.0  112176.0\n",
      "2025-08-23    114979.0     NaN  115563.0  115663.0  114939.0\n",
      "2025-08-22    115501.0     NaN  112922.0  117024.0  115455.0\n",
      "2025-08-21    113003.0     NaN  113962.0  113522.0  112343.0\n",
      "2025-08-20    114089.0     NaN  113532.0  114776.0  113912.0\n",
      "2025-08-19    113494.0     NaN  114857.0  113644.0  112688.0\n",
      "2025-08-18    114896.0     NaN  115338.0  116729.0  114890.0\n",
      "2025-08-17    115222.0     NaN  117694.0  117553.0  115017.0\n",
      "2025-08-16    117480.0     NaN  118971.0  117915.0  117257.0\n",
      "2025-08-15    117575.0     NaN  118988.0  117915.0  117257.0\n",
      "2025-08-14    118947.0     NaN  123362.0  119098.0  118057.0\n",
      "2025-08-13    123361.0     NaN  119481.0  124437.0  123282.0\n",
      "2025-08-12    119572.0     NaN  118865.0  120181.0  119102.0\n",
      "2025-08-11    118867.0     NaN  121737.0  119278.0  118619.0\n",
      "2025-08-10    118121.0     NaN  116528.0  119109.0  116468.0\n",
      "2025-08-09    118171.0     NaN  116387.0  118482.0  116468.0\n",
      "2025-08-08    116383.0     NaN  116745.0  116753.0  116364.0\n"
     ]
    }
   ],
   "source": [
    "data = pd.read_csv(\"../../res/BTC_daily_historical_data.csv\", parse_dates=[\"Date\"], index_col=\"Date\")\n",
    "df = pd.DataFrame(data)\n",
    "print(df)\n"
   ]
  },
  {
   "cell_type": "code",
   "execution_count": 31,
   "id": "81619631",
   "metadata": {},
   "outputs": [
    {
     "name": "stdout",
     "output_type": "stream",
     "text": [
      "Month\n",
      "2025-08    0.002342\n",
      "2025-09   -0.000970\n",
      "Freq: M, Name: Return, dtype: float64\n"
     ]
    }
   ],
   "source": [
    "# Compute daily returns\n",
    "df[\"Return\"] = df[\"Close/Last\"].pct_change()\n",
    "# Add \"Month\" column\n",
    "df[\"Month\"] = df.index.to_period(\"M\")\n",
    "\n",
    "# Group by month, compute average return\n",
    "monthly_avg = df.groupby(\"Month\")[\"Return\"].mean()\n",
    "print(monthly_avg.head())\n"
   ]
  },
  {
   "cell_type": "code",
   "execution_count": null,
   "id": "7ba4bbae",
   "metadata": {},
   "outputs": [
    {
     "ename": "NameError",
     "evalue": "name 'pd' is not defined",
     "output_type": "error",
     "traceback": [
      "\u001b[31m---------------------------------------------------------------------------\u001b[39m",
      "\u001b[31mNameError\u001b[39m                                 Traceback (most recent call last)",
      "\u001b[36mCell\u001b[39m\u001b[36m \u001b[39m\u001b[32mIn[2]\u001b[39m\u001b[32m, line 2\u001b[39m\n\u001b[32m      1\u001b[39m \u001b[38;5;66;03m# import the historical data of multiple charts then concatinate them  into one dataframe\u001b[39;00m\n\u001b[32m----> \u001b[39m\u001b[32m2\u001b[39m multi_df = \u001b[43mpd\u001b[49m.concat([\n\u001b[32m      3\u001b[39m     pd.read_csv(\u001b[33m\"\u001b[39m\u001b[33m../../res/ETH_daily_historical_data.csv\u001b[39m\u001b[33m\"\u001b[39m, parse_dates=\u001b[33m\"\u001b[39m\u001b[33mDate\u001b[39m\u001b[33m\"\u001b[39m, index_col=\u001b[33m\"\u001b[39m\u001b[33mDate\u001b[39m\u001b[33m\"\u001b[39m).assign(Ticker=\u001b[33m\"\u001b[39m\u001b[33mETH\u001b[39m\u001b[33m\"\u001b[39m),\n\u001b[32m      4\u001b[39m     pd.read_csv(\u001b[33m\"\u001b[39m\u001b[33m../../res/BTC_daily_historical_data.csv\u001b[39m\u001b[33m\"\u001b[39m, parse_dates=\u001b[33m\"\u001b[39m\u001b[33mDate\u001b[39m\u001b[33m\"\u001b[39m, index_col=\u001b[33m\"\u001b[39m\u001b[33mDate\u001b[39m\u001b[33m\"\u001b[39m).assign(Ticker=\u001b[33m\"\u001b[39m\u001b[33mBTC\u001b[39m\u001b[33m\"\u001b[39m),\n\u001b[32m      5\u001b[39m     pd.read_csv(\u001b[33m\"\u001b[39m\u001b[33m../../res/SOL_daily_historical_data.csv\u001b[39m\u001b[33m\"\u001b[39m, parse_dates=\u001b[33m\"\u001b[39m\u001b[33mDate\u001b[39m\u001b[33m\"\u001b[39m, index_col=\u001b[33m\"\u001b[39m\u001b[33mDate\u001b[39m\u001b[33m\"\u001b[39m).assign(Ticker=\u001b[33m\"\u001b[39m\u001b[33mSOL\u001b[39m\u001b[33m\"\u001b[39m),\n\u001b[32m      6\u001b[39m ])\n\u001b[32m      7\u001b[39m \u001b[38;5;28mprint\u001b[39m(multi_df)\n",
      "\u001b[31mNameError\u001b[39m: name 'pd' is not defined"
     ]
    }
   ],
   "source": [
    "# import the historical data of multiple charts then concatinate them  into one dataframe\n",
    "multi_df = pd.concat([\n",
    "    pd.read_csv(\"../../res/ETH_daily_historical_data.csv\", parse_dates=\"Date\", index_col=\"Date\").assign(Ticker=\"ETH\"),\n",
    "    pd.read_csv(\"../../res/BTC_daily_historical_data.csv\", parse_dates=\"Date\", index_col=\"Date\").assign(Ticker=\"BTC\"),\n",
    "    pd.read_csv(\"../../res/SOL_daily_historical_data.csv\", parse_dates=\"Date\", index_col=\"Date\").assign(Ticker=\"SOL\")\n",
    "])\n",
    "print(multi_df)"
   ]
  }
 ],
 "metadata": {
  "kernelspec": {
   "display_name": "quant",
   "language": "python",
   "name": "python3"
  },
  "language_info": {
   "codemirror_mode": {
    "name": "ipython",
    "version": 3
   },
   "file_extension": ".py",
   "mimetype": "text/x-python",
   "name": "python",
   "nbconvert_exporter": "python",
   "pygments_lexer": "ipython3",
   "version": "3.13.7"
  }
 },
 "nbformat": 4,
 "nbformat_minor": 5
}
