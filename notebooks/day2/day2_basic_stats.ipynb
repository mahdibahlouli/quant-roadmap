{
 "cells": [
  {
   "cell_type": "code",
   "execution_count": 16,
   "id": "2b493b08",
   "metadata": {},
   "outputs": [],
   "source": [
    "import pandas as pd \n",
    "import matplotlib.pyplot as plt "
   ]
  },
  {
   "cell_type": "code",
   "execution_count": 17,
   "id": "a2dd9593",
   "metadata": {},
   "outputs": [
    {
     "data": {
      "text/html": [
       "<div>\n",
       "<style scoped>\n",
       "    .dataframe tbody tr th:only-of-type {\n",
       "        vertical-align: middle;\n",
       "    }\n",
       "\n",
       "    .dataframe tbody tr th {\n",
       "        vertical-align: top;\n",
       "    }\n",
       "\n",
       "    .dataframe thead th {\n",
       "        text-align: right;\n",
       "    }\n",
       "</style>\n",
       "<table border=\"1\" class=\"dataframe\">\n",
       "  <thead>\n",
       "    <tr style=\"text-align: right;\">\n",
       "      <th></th>\n",
       "      <th>Close/Last</th>\n",
       "      <th>Volume</th>\n",
       "      <th>Open</th>\n",
       "      <th>High</th>\n",
       "      <th>Low</th>\n",
       "    </tr>\n",
       "    <tr>\n",
       "      <th>Date</th>\n",
       "      <th></th>\n",
       "      <th></th>\n",
       "      <th></th>\n",
       "      <th></th>\n",
       "      <th></th>\n",
       "    </tr>\n",
       "  </thead>\n",
       "  <tbody>\n",
       "    <tr>\n",
       "      <th>2025-09-07</th>\n",
       "      <td>111078.0</td>\n",
       "      <td>NaN</td>\n",
       "      <td>110636.0</td>\n",
       "      <td>111343.0</td>\n",
       "      <td>110631.0</td>\n",
       "    </tr>\n",
       "    <tr>\n",
       "      <th>2025-09-06</th>\n",
       "      <td>110508.0</td>\n",
       "      <td>NaN</td>\n",
       "      <td>111197.0</td>\n",
       "      <td>110589.0</td>\n",
       "      <td>110186.0</td>\n",
       "    </tr>\n",
       "    <tr>\n",
       "      <th>2025-09-05</th>\n",
       "      <td>111052.0</td>\n",
       "      <td>NaN</td>\n",
       "      <td>111311.0</td>\n",
       "      <td>111313.0</td>\n",
       "      <td>110555.0</td>\n",
       "    </tr>\n",
       "    <tr>\n",
       "      <th>2025-09-04</th>\n",
       "      <td>111250.0</td>\n",
       "      <td>NaN</td>\n",
       "      <td>111146.0</td>\n",
       "      <td>111484.0</td>\n",
       "      <td>110453.0</td>\n",
       "    </tr>\n",
       "    <tr>\n",
       "      <th>2025-09-03</th>\n",
       "      <td>111222.0</td>\n",
       "      <td>NaN</td>\n",
       "      <td>111054.0</td>\n",
       "      <td>112189.0</td>\n",
       "      <td>111217.0</td>\n",
       "    </tr>\n",
       "    <tr>\n",
       "      <th>2025-09-02</th>\n",
       "      <td>111116.0</td>\n",
       "      <td>NaN</td>\n",
       "      <td>110325.0</td>\n",
       "      <td>111754.0</td>\n",
       "      <td>110899.0</td>\n",
       "    </tr>\n",
       "    <tr>\n",
       "      <th>2025-09-01</th>\n",
       "      <td>110428.0</td>\n",
       "      <td>NaN</td>\n",
       "      <td>107688.0</td>\n",
       "      <td>110600.0</td>\n",
       "      <td>108896.0</td>\n",
       "    </tr>\n",
       "    <tr>\n",
       "      <th>2025-08-31</th>\n",
       "      <td>107478.0</td>\n",
       "      <td>NaN</td>\n",
       "      <td>109201.0</td>\n",
       "      <td>108450.0</td>\n",
       "      <td>107408.0</td>\n",
       "    </tr>\n",
       "    <tr>\n",
       "      <th>2025-08-30</th>\n",
       "      <td>109347.0</td>\n",
       "      <td>NaN</td>\n",
       "      <td>108435.0</td>\n",
       "      <td>109484.0</td>\n",
       "      <td>108807.0</td>\n",
       "    </tr>\n",
       "    <tr>\n",
       "      <th>2025-08-29</th>\n",
       "      <td>108389.0</td>\n",
       "      <td>NaN</td>\n",
       "      <td>111727.0</td>\n",
       "      <td>108424.0</td>\n",
       "      <td>107433.0</td>\n",
       "    </tr>\n",
       "  </tbody>\n",
       "</table>\n",
       "</div>"
      ],
      "text/plain": [
       "            Close/Last  Volume      Open      High       Low\n",
       "Date                                                        \n",
       "2025-09-07    111078.0     NaN  110636.0  111343.0  110631.0\n",
       "2025-09-06    110508.0     NaN  111197.0  110589.0  110186.0\n",
       "2025-09-05    111052.0     NaN  111311.0  111313.0  110555.0\n",
       "2025-09-04    111250.0     NaN  111146.0  111484.0  110453.0\n",
       "2025-09-03    111222.0     NaN  111054.0  112189.0  111217.0\n",
       "2025-09-02    111116.0     NaN  110325.0  111754.0  110899.0\n",
       "2025-09-01    110428.0     NaN  107688.0  110600.0  108896.0\n",
       "2025-08-31    107478.0     NaN  109201.0  108450.0  107408.0\n",
       "2025-08-30    109347.0     NaN  108435.0  109484.0  108807.0\n",
       "2025-08-29    108389.0     NaN  111727.0  108424.0  107433.0"
      ]
     },
     "execution_count": 17,
     "metadata": {},
     "output_type": "execute_result"
    }
   ],
   "source": [
    "df= pd.read_csv(\"../../res/BTC_daily_historical_data.csv\", parse_dates=[\"Date\"], index_col=\"Date\")\n",
    "df.head(10) "
   ]
  },
  {
   "cell_type": "code",
   "execution_count": 18,
   "id": "d3b1e483",
   "metadata": {},
   "outputs": [
    {
     "name": "stdout",
     "output_type": "stream",
     "text": [
      "<class 'pandas.core.frame.DataFrame'>\n",
      "DatetimeIndex: 31 entries, 2025-09-07 to 2025-08-08\n",
      "Data columns (total 5 columns):\n",
      " #   Column      Non-Null Count  Dtype  \n",
      "---  ------      --------------  -----  \n",
      " 0   Close/Last  31 non-null     float64\n",
      " 1   Volume      0 non-null      float64\n",
      " 2   Open        31 non-null     float64\n",
      " 3   High        31 non-null     float64\n",
      " 4   Low         31 non-null     float64\n",
      "dtypes: float64(5)\n",
      "memory usage: 1.5 KB\n",
      "None\n"
     ]
    }
   ],
   "source": [
    "print(df.info())"
   ]
  },
  {
   "cell_type": "markdown",
   "id": "914de4aa",
   "metadata": {},
   "source": [
    "# inspecting the data to get an idea of it "
   ]
  },
  {
   "cell_type": "code",
   "execution_count": 19,
   "id": "f52d2648",
   "metadata": {},
   "outputs": [
    {
     "name": "stdout",
     "output_type": "stream",
     "text": [
      "          Close/Last  Volume           Open           High            Low\n",
      "count      31.000000     0.0      31.000000      31.000000      31.000000\n",
      "mean   113871.612903     NaN  114160.774194  114450.096774  113312.612903\n",
      "std      3793.831201     NaN    3979.280251    3967.496023    3863.892525\n",
      "min    107478.000000     NaN  107688.000000  108424.000000  107408.000000\n",
      "25%    111097.000000     NaN  111171.500000  111413.500000  110593.000000\n",
      "50%    113276.000000     NaN  113532.000000  113644.000000  112343.000000\n",
      "75%    116931.500000     NaN  116636.500000  117734.000000  116416.000000\n",
      "max    123361.000000     NaN  123362.000000  124437.000000  123282.000000\n"
     ]
    }
   ],
   "source": [
    "print(df.describe())"
   ]
  },
  {
   "cell_type": "code",
   "execution_count": 21,
   "id": "7c1b69b3",
   "metadata": {},
   "outputs": [
    {
     "name": "stdout",
     "output_type": "stream",
     "text": [
      "Close/Last     0\n",
      "Volume        31\n",
      "Open           0\n",
      "High           0\n",
      "Low            0\n",
      "dtype: int64\n"
     ]
    }
   ],
   "source": [
    "print(df.isna().sum())"
   ]
  },
  {
   "cell_type": "markdown",
   "id": "6ca5691f",
   "metadata": {},
   "source": [
    "# indexing the data "
   ]
  },
  {
   "cell_type": "code",
   "execution_count": null,
   "id": "4ff49c58",
   "metadata": {},
   "outputs": [
    {
     "name": "stdout",
     "output_type": "stream",
     "text": [
      "Date\n",
      "2025-09-07    111078.0\n",
      "2025-09-06    110508.0\n",
      "2025-09-05    111052.0\n",
      "2025-09-04    111250.0\n",
      "2025-09-03    111222.0\n",
      "2025-09-02    111116.0\n",
      "2025-09-01    110428.0\n",
      "2025-08-31    107478.0\n",
      "2025-08-30    109347.0\n",
      "2025-08-29    108389.0\n",
      "Name: Close/Last, dtype: float64\n"
     ]
    }
   ],
   "source": [
    "closeprices = df[\"Close/Last\"]\n",
    "print(closeprices.head(10))"
   ]
  },
  {
   "cell_type": "code",
   "execution_count": null,
   "id": "6f525816",
   "metadata": {},
   "outputs": [
    {
     "name": "stdout",
     "output_type": "stream",
     "text": [
      "            Close/Last  Volume      Open      High       Low\n",
      "Date                                                        \n",
      "2025-08-31    107478.0     NaN  109201.0  108450.0  107408.0\n",
      "2025-08-30    109347.0     NaN  108435.0  109484.0  108807.0\n"
     ]
    }
   ],
   "source": [
    "print(df.loc[\"2025-08\"].head(2))"
   ]
  },
  {
   "cell_type": "code",
   "execution_count": 41,
   "id": "ee33dc50",
   "metadata": {},
   "outputs": [
    {
     "name": "stdout",
     "output_type": "stream",
     "text": [
      "            Close/Last  Volume      Open      High       Low\n",
      "Date                                                        \n",
      "2025-08-22    115501.0     NaN  112922.0  117024.0  115455.0\n",
      "2025-08-23    114979.0     NaN  115563.0  115663.0  114939.0\n",
      "2025-08-24    113276.0     NaN  115036.0  113665.0  112176.0\n",
      "2025-08-25    109887.0     NaN  112979.0  110118.0  108768.0\n",
      "2025-08-26    111657.0     NaN  109877.0  111829.0  110924.0\n",
      "2025-08-27    111882.0     NaN  111437.0  112015.0  110888.0\n",
      "2025-08-28    111789.0     NaN  112003.0  112617.0  111332.0\n",
      "2025-08-29    108389.0     NaN  111727.0  108424.0  107433.0\n",
      "2025-08-30    109347.0     NaN  108435.0  109484.0  108807.0\n",
      "2025-08-31    107478.0     NaN  109201.0  108450.0  107408.0\n",
      "2025-09-01    110428.0     NaN  107688.0  110600.0  108896.0\n",
      "2025-09-02    111116.0     NaN  110325.0  111754.0  110899.0\n"
     ]
    }
   ],
   "source": [
    "df_sorted = df.sort_index()\n",
    "print(df_sorted.loc[\"2025-08-22\":\"2025-09-02\"])"
   ]
  },
  {
   "cell_type": "code",
   "execution_count": 43,
   "id": "bea04d28",
   "metadata": {},
   "outputs": [
    {
     "name": "stdout",
     "output_type": "stream",
     "text": [
      "            Close/Last  Volume      Open      High       Low\n",
      "Date                                                        \n",
      "2025-09-07    111078.0     NaN  110636.0  111343.0  110631.0\n",
      "2025-09-06    110508.0     NaN  111197.0  110589.0  110186.0\n",
      "2025-09-05    111052.0     NaN  111311.0  111313.0  110555.0\n",
      "2025-09-04    111250.0     NaN  111146.0  111484.0  110453.0\n",
      "2025-09-03    111222.0     NaN  111054.0  112189.0  111217.0\n"
     ]
    }
   ],
   "source": [
    "# iloc is for indexed location\n",
    "print(df.iloc[0:5])"
   ]
  },
  {
   "cell_type": "code",
   "execution_count": 44,
   "id": "174c947e",
   "metadata": {},
   "outputs": [
    {
     "name": "stdout",
     "output_type": "stream",
     "text": [
      "Date\n",
      "2025-09-07         NaN\n",
      "2025-09-06   -0.005132\n",
      "2025-09-05    0.004923\n",
      "2025-09-04    0.001783\n",
      "2025-09-03   -0.000252\n",
      "2025-09-02   -0.000953\n",
      "2025-09-01   -0.006192\n",
      "2025-08-31   -0.026714\n",
      "2025-08-30    0.017390\n",
      "2025-08-29   -0.008761\n",
      "2025-08-28    0.031368\n",
      "2025-08-27    0.000832\n",
      "2025-08-26   -0.002011\n",
      "2025-08-25   -0.015852\n",
      "2025-08-24    0.030841\n",
      "2025-08-23    0.015034\n",
      "2025-08-22    0.004540\n",
      "2025-08-21   -0.021628\n",
      "2025-08-20    0.009610\n",
      "2025-08-19   -0.005215\n",
      "2025-08-18    0.012353\n",
      "2025-08-17    0.002837\n",
      "2025-08-16    0.019597\n",
      "2025-08-15    0.000809\n",
      "2025-08-14    0.011669\n",
      "2025-08-13    0.037109\n",
      "2025-08-12   -0.030715\n",
      "2025-08-11   -0.005896\n",
      "2025-08-10   -0.006276\n",
      "2025-08-09    0.000423\n",
      "2025-08-08   -0.015131\n",
      "Name: Daily Returns, dtype: float64\n"
     ]
    }
   ],
   "source": [
    "df[\"Daily Returns\"] = df[\"Close/Last\"].pct_change()\n",
    "print(df[\"Daily Returns\"])"
   ]
  }
 ],
 "metadata": {
  "kernelspec": {
   "display_name": "quant",
   "language": "python",
   "name": "python3"
  },
  "language_info": {
   "codemirror_mode": {
    "name": "ipython",
    "version": 3
   },
   "file_extension": ".py",
   "mimetype": "text/x-python",
   "name": "python",
   "nbconvert_exporter": "python",
   "pygments_lexer": "ipython3",
   "version": "3.13.7"
  }
 },
 "nbformat": 4,
 "nbformat_minor": 5
}
