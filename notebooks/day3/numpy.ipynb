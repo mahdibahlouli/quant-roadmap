{
 "cells": [
  {
   "cell_type": "markdown",
   "id": "4f63336a",
   "metadata": {},
   "source": [
    "### GETTING STARTED"
   ]
  },
  {
   "cell_type": "code",
   "execution_count": 26,
   "id": "eb1b4b67",
   "metadata": {},
   "outputs": [],
   "source": [
    "import numpy as np"
   ]
  },
  {
   "cell_type": "code",
   "execution_count": 27,
   "id": "fad26f95",
   "metadata": {},
   "outputs": [
    {
     "name": "stdout",
     "output_type": "stream",
     "text": [
      "[1 2 3 4 5 6]\n",
      "<class 'numpy.ndarray'>\n"
     ]
    }
   ],
   "source": [
    "arr = np.array([1,2,3,4,5,6])\n",
    "print(arr)\n",
    "print(type(arr))"
   ]
  },
  {
   "cell_type": "code",
   "execution_count": 28,
   "id": "f9be0878",
   "metadata": {},
   "outputs": [
    {
     "name": "stdout",
     "output_type": "stream",
     "text": [
      "0\n",
      "1\n",
      "2\n",
      "3\n"
     ]
    }
   ],
   "source": [
    "a = np.array(42)\n",
    "b = np.array([1, 2, 3, 4, 5])\n",
    "c = np.array([[1, 2, 3], [4, 5, 6]])\n",
    "d = np.array([[[1, 2, 3], [4, 5, 6]], [[1, 2, 3], [4, 5, 6]]])\n",
    "\n",
    "print(a.ndim)\n",
    "print(b.ndim)\n",
    "print(c.ndim)\n",
    "print(d.ndim)"
   ]
  },
  {
   "cell_type": "code",
   "execution_count": 29,
   "id": "4a4c88ae",
   "metadata": {},
   "outputs": [
    {
     "name": "stdout",
     "output_type": "stream",
     "text": [
      "26\n"
     ]
    }
   ],
   "source": [
    "arr = np.array([1,12,3,2,2], ndmin =26 )\n",
    "print(arr.ndim)"
   ]
  },
  {
   "cell_type": "code",
   "execution_count": 30,
   "id": "f1aad20d",
   "metadata": {},
   "outputs": [
    {
     "name": "stdout",
     "output_type": "stream",
     "text": [
      "[2]\n",
      "[1, 1]\n",
      "[0, 1, 2]\n"
     ]
    }
   ],
   "source": [
    "firstarr = np.array([1,2,44,5,33,32])\n",
    "\n",
    "# selecting the third column\n",
    "print([2])\n",
    "secondarr = np.array([[1,23,42,32],[23,3,43,53]])\n",
    "\n",
    "# selecting the second row second column\n",
    "print([1,1])\n",
    "thirdarr = np.array([[[32,23,2],[32,234,3]],[[23,234,23],[53,64,6]]])\n",
    "\n",
    "# selecting the first row second column 3rd ... \n",
    "print([0,1,2])"
   ]
  },
  {
   "cell_type": "code",
   "execution_count": 31,
   "id": "ef64a79a",
   "metadata": {},
   "outputs": [
    {
     "name": "stdout",
     "output_type": "stream",
     "text": [
      "[[2 3 4]\n",
      " [7 8 9]]\n"
     ]
    }
   ],
   "source": [
    "### slicing \n",
    "#1D\n",
    "# [a:b:c] a is the start index b is the end index and c is the step \n",
    "#2D\n",
    "#[from element,return ]\n",
    "\n",
    "# since this is a 2d array we are printing both rows from 2nd to 5th column \n",
    "arr = np.array([[1, 2, 3, 4, 5], [6, 7, 8, 9, 10]])\n",
    "\n",
    "print(arr[0:2, 1:4])\n",
    "\n",
    "\n"
   ]
  },
  {
   "cell_type": "code",
   "execution_count": 32,
   "id": "d5d257c8",
   "metadata": {},
   "outputs": [
    {
     "name": "stdout",
     "output_type": "stream",
     "text": [
      "[1 2 3 4 5 6]\n",
      "<class 'numpy.ndarray'>\n",
      "int64\n"
     ]
    }
   ],
   "source": [
    "arr = np.array([1,2,3,4,5,6])\n",
    "print(arr)\n",
    "print(type(arr))\n",
    "\n",
    "print(arr.dtype)"
   ]
  },
  {
   "cell_type": "code",
   "execution_count": 33,
   "id": "e134e54b",
   "metadata": {},
   "outputs": [
    {
     "name": "stdout",
     "output_type": "stream",
     "text": [
      "[b'1' b'2' b'3' b'4']\n",
      "|S1\n"
     ]
    }
   ],
   "source": [
    "\n",
    "arr = np.array([1, 2, 3, 4], dtype='S')\n",
    "\n",
    "print(arr)\n",
    "# .dtype to show the type of the array variables , type() to show the type of array itself \n",
    "print(arr.dtype)"
   ]
  },
  {
   "cell_type": "code",
   "execution_count": 34,
   "id": "bd76e879",
   "metadata": {},
   "outputs": [
    {
     "name": "stdout",
     "output_type": "stream",
     "text": [
      "[1 2 3 4]\n",
      "int32\n"
     ]
    }
   ],
   "source": [
    "# to convert an array we use astype methode \n",
    "newarr = arr.astype('i')\n",
    "print(newarr)\n",
    "print(newarr.dtype)"
   ]
  },
  {
   "cell_type": "code",
   "execution_count": 35,
   "id": "038a6d66",
   "metadata": {},
   "outputs": [],
   "source": [
    "arr = np.array([1,2,3,3,4,8,5])\n",
    "# copy() copies the original array into a new variable \n",
    "arrcopy = arr.copy()\n",
    "# view () creates a shortcut of the original array \n",
    "arrshort = arr.view()\n",
    "\n"
   ]
  },
  {
   "cell_type": "code",
   "execution_count": 36,
   "id": "2bd90746",
   "metadata": {},
   "outputs": [
    {
     "name": "stdout",
     "output_type": "stream",
     "text": [
      "[[1 2 3]\n",
      " [3 4 8]\n",
      " [5 2 9]\n",
      " [1 5 2]]\n"
     ]
    }
   ],
   "source": [
    "# we reshape from 1D to 2D\n",
    "# we use .reshape()\n",
    "arr = np.array([1,2,3,3,4,8,5,2,9,1,5,2])\n",
    "# reshape to 4 rows 3 colums\n",
    "newarr = arr.reshape(4,3)\n",
    "print(newarr)"
   ]
  },
  {
   "cell_type": "code",
   "execution_count": null,
   "id": "c0c586e3",
   "metadata": {},
   "outputs": [],
   "source": [
    "# to reshape from 2D 3D \n",
    "arr = np.array([1,2,3,3,4,8,5,2,9,1,5,2])\n",
    "newarr = arr.reshape(3,4)\n",
    "arr3d = arr.reshape(2,2,3)\n",
    "print(newarr)\n",
    "print(arr3d)\n",
    "\n"
   ]
  }
 ],
 "metadata": {
  "kernelspec": {
   "display_name": "quant",
   "language": "python",
   "name": "python3"
  },
  "language_info": {
   "codemirror_mode": {
    "name": "ipython",
    "version": 3
   },
   "file_extension": ".py",
   "mimetype": "text/x-python",
   "name": "python",
   "nbconvert_exporter": "python",
   "pygments_lexer": "ipython3",
   "version": "3.13.7"
  }
 },
 "nbformat": 4,
 "nbformat_minor": 5
}
